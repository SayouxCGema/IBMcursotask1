{
 "cells": [
  {
   "cell_type": "markdown",
   "id": "3eaf8025-c12c-455e-8663-2fd681792d61",
   "metadata": {},
   "source": [
    "# Cuaderno ejercicio 1"
   ]
  },
  {
   "cell_type": "markdown",
   "id": "7d292e8b-e706-403a-beae-8b7b5b139ad9",
   "metadata": {},
   "source": [
    "#### Introduccion:\n",
    "En este ejercicio estoy aplicando los conocimientos adquiridos sobre la creación de celdas en jupyter y también la publicación de un repositorio en Github. La idea, es que pueda publicar este primer trabajo, para posteriormente compartir el mismo con mis compañeros del curso, que serán quienes se encargarán de darme una puntuación."
   ]
  },
  {
   "cell_type": "markdown",
   "id": "5456fd20-289b-48d4-ad26-1f2db9e238d3",
   "metadata": {},
   "source": [
    "### ¿Cuáles son los lenguajes en la ciencia de datos más conocidos?\n",
    "- Python\n",
    "- R\n",
    "- SQL\n",
    "- Java\n",
    "- C++\n",
    "- Julia"
   ]
  },
  {
   "cell_type": "markdown",
   "id": "4607441e-c95e-4efe-bab4-a18999f5e4e9",
   "metadata": {},
   "source": [
    "###¿Cuáles son las bibliotecas en la ciencia de datos?\n",
    "\n",
    "- Numpy, Matplotlib, Seaborn, Ski-learn"
   ]
  },
  {
   "cell_type": "markdown",
   "id": "7a9d6c50-9478-45f5-a904-30c03700bd90",
   "metadata": {},
   "source": [
    "#### Tabla de herramientas en la ciencia de datos:\n",
    "\n",
    "| Herramientas | Uso |\n",
    "| ------------ | --- |\n",
    "| SQL | Bases de datos |\n",
    "| Python | Lenguaje de programacion |\n",
    "| Power Bi | Herramienta de análisis de datos|\n",
    "\n",
    "\n"
   ]
  },
  {
   "cell_type": "markdown",
   "id": "68429753-febd-4e9d-9fe9-8157db26009b",
   "metadata": {},
   "source": [
    "#### Ejemplos de expresiones aritméticas\n",
    "\n",
    "2+2"
   ]
  },
  {
   "cell_type": "code",
   "execution_count": 1,
   "id": "abd073e7-17ce-4144-a260-965cad61376f",
   "metadata": {
    "tags": []
   },
   "outputs": [
    {
     "data": {
      "text/plain": [
       "4"
      ]
     },
     "execution_count": 1,
     "metadata": {},
     "output_type": "execute_result"
    }
   ],
   "source": [
    "# suma de valores numericos\n",
    "\n",
    "2+2"
   ]
  },
  {
   "cell_type": "code",
   "execution_count": 2,
   "id": "2f09b5ea-54a6-4920-8ce7-0ed39f14e56f",
   "metadata": {
    "tags": []
   },
   "outputs": [
    {
     "data": {
      "text/plain": [
       "42"
      ]
     },
     "execution_count": 2,
     "metadata": {},
     "output_type": "execute_result"
    }
   ],
   "source": [
    "7*6"
   ]
  },
  {
   "cell_type": "markdown",
   "id": "13be77eb-b544-4034-b03c-84927df4c774",
   "metadata": {},
   "source": [
    "#### Cree una celda de código para convertir minutos en horas"
   ]
  },
  {
   "cell_type": "code",
   "execution_count": 3,
   "id": "4403b8d8-46a3-4b76-9616-d567dfe6d587",
   "metadata": {
    "tags": []
   },
   "outputs": [
    {
     "data": {
      "text/plain": [
       "9.4"
      ]
     },
     "execution_count": 3,
     "metadata": {},
     "output_type": "execute_result"
    }
   ],
   "source": [
    "564/60"
   ]
  },
  {
   "cell_type": "markdown",
   "id": "8aaef5bc-30de-4809-aba8-6f160bfd8659",
   "metadata": {},
   "source": [
    "##### Autor\n",
    "- *Gema Calderon Sayoux*"
   ]
  },
  {
   "cell_type": "code",
   "execution_count": null,
   "id": "90f9bd36-d129-4d5f-acb6-d0aedb2fb64b",
   "metadata": {},
   "outputs": [],
   "source": []
  }
 ],
 "metadata": {
  "kernelspec": {
   "display_name": "Python",
   "language": "python",
   "name": "conda-env-python-py"
  },
  "language_info": {
   "codemirror_mode": {
    "name": "ipython",
    "version": 3
   },
   "file_extension": ".py",
   "mimetype": "text/x-python",
   "name": "python",
   "nbconvert_exporter": "python",
   "pygments_lexer": "ipython3",
   "version": "3.7.12"
  }
 },
 "nbformat": 4,
 "nbformat_minor": 5
}
